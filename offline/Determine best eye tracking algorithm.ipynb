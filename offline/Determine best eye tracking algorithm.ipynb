{
 "cells": [
  {
   "cell_type": "code",
   "execution_count": 63,
   "metadata": {},
   "outputs": [],
   "source": [
    "import numpy as np\n",
    "import matplotlib.pyplot as plt\n",
    "%matplotlib inline\n",
    "from ipywidgets import interact, fixed\n",
    "import cv2\n",
    "from skimage.color import gray2rgb\n",
    "from skimage.filters import threshold_local, threshold_otsu\n",
    "from skimage.morphology import erosion, dilation, opening, closing\n",
    "from pyprind import prog_percent\n",
    "from glob import glob\n",
    "import pandas as pd\n",
    "from skimage.morphology import disk\n",
    "from skimage.filters import threshold_otsu, rank\n",
    "from skimage.util import img_as_ubyte\n",
    "import os"
   ]
  },
  {
   "cell_type": "code",
   "execution_count": 106,
   "metadata": {},
   "outputs": [],
   "source": [
    "DESTINATION = r'J:\\Andreas Kist\\IO_OMR_analysis\\new_fish\\\\'"
   ]
  },
  {
   "cell_type": "code",
   "execution_count": 104,
   "metadata": {},
   "outputs": [],
   "source": [
    "def loadMovie(fn, transpose=True):\n",
    "    frames = []\n",
    "    c = cv2.VideoCapture(fn)\n",
    "    \n",
    "    while True:\n",
    "        flag, im = c.read()\n",
    "        \n",
    "        if flag:\n",
    "            frames.append(im[...,0] if not transpose else im[...,0].T)\n",
    "            \n",
    "        else:\n",
    "            break\n",
    "            \n",
    "    print(len(frames), 'frames were loaded.')\n",
    "    return np.array(frames)"
   ]
  },
  {
   "cell_type": "code",
   "execution_count": 102,
   "metadata": {},
   "outputs": [],
   "source": [
    "def testThreshold(mov):\n",
    "    @interact\n",
    "    def t(mov=fixed(mov), frame:(0, len(mov))=0, threshold=(0,255), invert=False, fit_eyes=False):\n",
    "        im = mov[frame]\n",
    "        \n",
    "        if fit_eyes:\n",
    "            e = fitEllipse((im > threshold))\n",
    "            ime = drawEllipse(gray2rgb(im), e)\n",
    "            plt.imshow(ime)\n",
    "            \n",
    "        else:\n",
    "            plt.imshow(im > threshold if invert == False else im < threshold)"
   ]
  },
  {
   "cell_type": "code",
   "execution_count": 107,
   "metadata": {},
   "outputs": [],
   "source": [
    "def threshold_local_interactive(mov):\n",
    "    @interact\n",
    "    def tli(mov=fixed(mov), frame:(0, len(mov))=0, block_size:(3,77,2)=17, offset:(1,100)=70, fit_eyes=False):\n",
    "        t = mov[frame] > threshold_local(mov[frame], block_size=block_size, offset=offset)\n",
    "        \n",
    "        if fit_eyes:\n",
    "            e = fitEllipse(t)\n",
    "            ime = drawEllipse(gray2rgb(mov[frame]), e)\n",
    "            plt.imshow(ime)\n",
    "            \n",
    "        else:\n",
    "            plt.imshow(t)"
   ]
  },
  {
   "cell_type": "code",
   "execution_count": 105,
   "metadata": {},
   "outputs": [],
   "source": [
    "def pad(im, padding=0, val=0):\n",
    "    padded = np.lib.pad(im, ((padding,padding),(padding,padding)), mode='constant', constant_values=((val, val),(val, val)))\n",
    "    return padded"
   ]
  },
  {
   "cell_type": "code",
   "execution_count": 37,
   "metadata": {},
   "outputs": [],
   "source": [
    "def local(im, padding=2, block_size=17, offset=70):\n",
    "    padded = np.lib.pad(im, ((padding,padding),(padding,padding)), mode='constant', constant_values=((im.min(), im.min()),(im.min(), im.min())))\n",
    "    return padded > threshold_local(padded, block_size=block_size, offset=offset)"
   ]
  },
  {
   "cell_type": "code",
   "execution_count": 38,
   "metadata": {},
   "outputs": [],
   "source": [
    "def fitEllipse(t):\n",
    "    _, contours, hierarchy = cv2.findContours(t.astype(np.uint8), cv2.RETR_TREE, cv2.CHAIN_APPROX_SIMPLE)\n",
    "\n",
    "    e = []\n",
    "\n",
    "    if len(contours) >= 2:\n",
    "        contours = sorted(contours, key=lambda c: c.shape[0], reverse=True)[:2]\n",
    "        contours = sorted(contours, key=np.max)\n",
    "\n",
    "        for i in range(2):\n",
    "            c = contours[i]\n",
    "\n",
    "            try:\n",
    "                ellipse = cv2.fitEllipse(c)\n",
    "\n",
    "                e.append(ellipse)\n",
    "\n",
    "            except:\n",
    "                print('Failed...')\n",
    "                pass#e = False\n",
    "\n",
    "        return e\n",
    "\n",
    "    else:\n",
    "        return False"
   ]
  },
  {
   "cell_type": "code",
   "execution_count": 39,
   "metadata": {},
   "outputs": [],
   "source": [
    "def drawEllipse(im, e, c=None):\n",
    "    imc = im.copy()\n",
    "\n",
    "    if c is None:\n",
    "        c = [(255,0,255, 255), (20,255,20, 255), (20,255,20, 255), (20,255,20, 255)]\n",
    "    \n",
    "    else:\n",
    "        assert len(e)==len(c), 'There are not as many colors as ellipses to be drawn!'\n",
    "\n",
    "    for i, eye in enumerate(e):\n",
    "        cv2.ellipse(imc, eye, c[i], 1)\n",
    "        \n",
    "    return imc"
   ]
  },
  {
   "cell_type": "markdown",
   "metadata": {},
   "source": [
    "# Try different methods"
   ]
  },
  {
   "cell_type": "code",
   "execution_count": 64,
   "metadata": {},
   "outputs": [],
   "source": [
    "exp = \"170712_f4\"\n",
    "DESTINATION_EXP = DESTINATION + exp + '\\\\'\n",
    "\n",
    "if not os.path.exists(DESTINATION_EXP):\n",
    "    os.mkdir(DESTINATION_EXP)"
   ]
  },
  {
   "cell_type": "code",
   "execution_count": 61,
   "metadata": {},
   "outputs": [
    {
     "name": "stdout",
     "output_type": "stream",
     "text": [
      "23457 frames were loaded.\n"
     ]
    }
   ],
   "source": [
    "mov = loadMovie(r\"J:\\Andreas Kist\\IO_OMR_analysis\\example_movies\\{}.mp4\".format(exp), transpose=True)"
   ]
  },
  {
   "cell_type": "code",
   "execution_count": 103,
   "metadata": {},
   "outputs": [
    {
     "data": {
      "application/vnd.jupyter.widget-view+json": {
       "model_id": "de3c156bb9d444ce9520e9648212ddff",
       "version_major": 2,
       "version_minor": 0
      },
      "text/html": [
       "<p>Failed to display Jupyter Widget of type <code>interactive</code>.</p>\n",
       "<p>\n",
       "  If you're reading this message in Jupyter Notebook or JupyterLab, it may mean\n",
       "  that the widgets JavaScript is still loading. If this message persists, it\n",
       "  likely means that the widgets JavaScript library is either not installed or\n",
       "  not enabled. See the <a href=\"https://ipywidgets.readthedocs.io/en/stable/user_install.html\">Jupyter\n",
       "  Widgets Documentation</a> for setup instructions.\n",
       "</p>\n",
       "<p>\n",
       "  If you're reading this message in another notebook frontend (for example, a static\n",
       "  rendering on GitHub or <a href=\"https://nbviewer.jupyter.org/\">NBViewer</a>),\n",
       "  it may mean that your frontend doesn't currently support widgets.\n",
       "</p>\n"
      ],
      "text/plain": [
       "interactive(children=(IntSlider(value=0, description='frame', max=23519), IntSlider(value=127, description='threshold', max=255), Checkbox(value=False, description='invert'), Checkbox(value=False, description='fit_eyes'), Output()), _dom_classes=('widget-interact',))"
      ]
     },
     "metadata": {},
     "output_type": "display_data"
    }
   ],
   "source": [
    "testThreshold(mov)"
   ]
  },
  {
   "cell_type": "code",
   "execution_count": 29,
   "metadata": {},
   "outputs": [
    {
     "data": {
      "application/vnd.jupyter.widget-view+json": {
       "model_id": "bec547ef185c4b8fb5da40b938052508",
       "version_major": 2,
       "version_minor": 0
      },
      "text/html": [
       "<p>Failed to display Jupyter Widget of type <code>interactive</code>.</p>\n",
       "<p>\n",
       "  If you're reading this message in Jupyter Notebook or JupyterLab, it may mean\n",
       "  that the widgets JavaScript is still loading. If this message persists, it\n",
       "  likely means that the widgets JavaScript library is either not installed or\n",
       "  not enabled. See the <a href=\"https://ipywidgets.readthedocs.io/en/stable/user_install.html\">Jupyter\n",
       "  Widgets Documentation</a> for setup instructions.\n",
       "</p>\n",
       "<p>\n",
       "  If you're reading this message in another notebook frontend (for example, a static\n",
       "  rendering on GitHub or <a href=\"https://nbviewer.jupyter.org/\">NBViewer</a>),\n",
       "  it may mean that your frontend doesn't currently support widgets.\n",
       "</p>\n"
      ],
      "text/plain": [
       "interactive(children=(IntSlider(value=0, description='frame', max=23457), IntSlider(value=17, description='block_size', max=27, min=3, step=2), IntSlider(value=70, description='offset', min=1), Checkbox(value=False, description='fit_eyes'), Output()), _dom_classes=('widget-interact',))"
      ]
     },
     "metadata": {},
     "output_type": "display_data"
    }
   ],
   "source": [
    "threshold_local_interactive(mov)"
   ]
  },
  {
   "cell_type": "code",
   "execution_count": 93,
   "metadata": {},
   "outputs": [],
   "source": [
    "def track_170712_f4(frame):\n",
    "    return local(frame, 0, 25, 15)"
   ]
  },
  {
   "cell_type": "code",
   "execution_count": 94,
   "metadata": {},
   "outputs": [
    {
     "name": "stderr",
     "output_type": "stream",
     "text": [
      "[100 %] Time elapsed: 00:00:00 | ETA: 00:00:00\n",
      "Total time elapsed: 00:00:00\n"
     ]
    },
    {
     "data": {
      "image/png": "[encoded data removed]",
      "text/plain": [
       "<matplotlib.figure.Figure at 0xd9ab3c8>"
      ]
     },
     "metadata": {},
     "output_type": "display_data"
    }
   ],
   "source": [
    "plt.figure(figsize=(12,12))\n",
    "c=1\n",
    "\n",
    "for i in prog_percent(range(0,mov.shape[0],2000)):\n",
    "    t = track_170712_f4(mov[i])\n",
    "    e = fitEllipse(t.copy()*255)\n",
    "    imgd = drawEllipse(gray2rgb(t.astype(np.uint8)*255), e)\n",
    "    \n",
    "    plt.subplot(4,3,c)\n",
    "    plt.imshow(imgd)\n",
    "    plt.title('Frame {:05d}'.format(i))\n",
    "    \n",
    "    c += 1\n",
    "    \n",
    "plt.suptitle('Quality {}'.format(exp), y=1.0)\n",
    "plt.tight_layout()\n",
    "plt.savefig(DESTINATION_EXP+'{}_quality.png'.format(exp), bbox_inches='tight')"
   ]
  },
  {
   "cell_type": "code",
   "execution_count": 95,
   "metadata": {},
   "outputs": [],
   "source": [
    "left, right = [], []\n",
    "\n",
    "for i in range(0,mov.shape[0]):\n",
    "    t = track_170712_f4(mov[i])\n",
    "    e = fitEllipse(t.copy()*255)\n",
    "\n",
    "    left.append(e[0][2])\n",
    "    right.append(e[1][2])\n",
    "\n",
    "left = np.array(left)\n",
    "right = np.array(right)\n",
    "\n",
    "left[left>90] -= 180\n",
    "right[right>90] -= 180\n"
   ]
  },
  {
   "cell_type": "code",
   "execution_count": 96,
   "metadata": {},
   "outputs": [
    {
     "data": {
      "image/png": "[encoded data removed]",
      "text/plain": [
       "<matplotlib.figure.Figure at 0xd9ac208>"
      ]
     },
     "metadata": {},
     "output_type": "display_data"
    }
   ],
   "source": [
    "plt.plot(left, label='left eye')\n",
    "plt.plot(right, label='right eye')\n",
    "plt.title('Example trace for {}'.format(exp))\n",
    "plt.savefig(DESTINATION_EXP+'{}_example_trace.png'.format(exp), dpi=300)"
   ]
  },
  {
   "cell_type": "markdown",
   "metadata": {},
   "source": [
    "# Run experiment!"
   ]
  },
  {
   "cell_type": "code",
   "execution_count": 98,
   "metadata": {},
   "outputs": [],
   "source": [
    "new_time = np.arange(0, 119.5 * 1000, 5)"
   ]
  },
  {
   "cell_type": "code",
   "execution_count": 99,
   "metadata": {},
   "outputs": [
    {
     "name": "stdout",
     "output_type": "stream",
     "text": [
      "23457 frames were loaded.\n"
     ]
    },
    {
     "name": "stderr",
     "output_type": "stream",
     "text": [
      "\r",
      "[  4 %] Time elapsed: 00:00:12 | ETA: 00:05:03"
     ]
    },
    {
     "name": "stdout",
     "output_type": "stream",
     "text": [
      "23315 frames were loaded.\n"
     ]
    },
    {
     "name": "stderr",
     "output_type": "stream",
     "text": [
      "\r",
      "[  8 %] Time elapsed: 00:00:25 | ETA: 00:04:56"
     ]
    },
    {
     "name": "stdout",
     "output_type": "stream",
     "text": [
      "23446 frames were loaded.\n"
     ]
    },
    {
     "name": "stderr",
     "output_type": "stream",
     "text": [
      "\r",
      "[ 12 %] Time elapsed: 00:00:38 | ETA: 00:04:43"
     ]
    },
    {
     "name": "stdout",
     "output_type": "stream",
     "text": [
      "23429 frames were loaded.\n"
     ]
    },
    {
     "name": "stderr",
     "output_type": "stream",
     "text": [
      "\r",
      "[ 16 %] Time elapsed: 00:00:51 | ETA: 00:04:31"
     ]
    },
    {
     "name": "stdout",
     "output_type": "stream",
     "text": [
      "23283 frames were loaded.\n"
     ]
    },
    {
     "name": "stderr",
     "output_type": "stream",
     "text": [
      "\r",
      "[ 20 %] Time elapsed: 00:01:04 | ETA: 00:04:17"
     ]
    },
    {
     "name": "stdout",
     "output_type": "stream",
     "text": [
      "23250 frames were loaded.\n"
     ]
    },
    {
     "name": "stderr",
     "output_type": "stream",
     "text": [
      "\r",
      "[ 24 %] Time elapsed: 00:01:17 | ETA: 00:04:03"
     ]
    },
    {
     "name": "stdout",
     "output_type": "stream",
     "text": [
      "23518 frames were loaded.\n"
     ]
    },
    {
     "name": "stderr",
     "output_type": "stream",
     "text": [
      "\r",
      "[ 28 %] Time elapsed: 00:01:29 | ETA: 00:03:51"
     ]
    },
    {
     "name": "stdout",
     "output_type": "stream",
     "text": [
      "23592 frames were loaded.\n"
     ]
    },
    {
     "name": "stderr",
     "output_type": "stream",
     "text": [
      "\r",
      "[ 32 %] Time elapsed: 00:01:42 | ETA: 00:03:38"
     ]
    },
    {
     "name": "stdout",
     "output_type": "stream",
     "text": [
      "23567 frames were loaded.\n"
     ]
    },
    {
     "name": "stderr",
     "output_type": "stream",
     "text": [
      "\r",
      "[ 36 %] Time elapsed: 00:01:59 | ETA: 00:03:32"
     ]
    },
    {
     "name": "stdout",
     "output_type": "stream",
     "text": [
      "23498 frames were loaded.\n"
     ]
    },
    {
     "name": "stderr",
     "output_type": "stream",
     "text": [
      "\r",
      "[ 40 %] Time elapsed: 00:02:18 | ETA: 00:03:28"
     ]
    },
    {
     "name": "stdout",
     "output_type": "stream",
     "text": [
      "23401 frames were loaded.\n"
     ]
    },
    {
     "name": "stderr",
     "output_type": "stream",
     "text": [
      "\r",
      "[ 44 %] Time elapsed: 00:02:36 | ETA: 00:03:19"
     ]
    },
    {
     "name": "stdout",
     "output_type": "stream",
     "text": [
      "23522 frames were loaded.\n"
     ]
    },
    {
     "name": "stderr",
     "output_type": "stream",
     "text": [
      "\r",
      "[ 48 %] Time elapsed: 00:02:49 | ETA: 00:03:03"
     ]
    },
    {
     "name": "stdout",
     "output_type": "stream",
     "text": [
      "23496 frames were loaded.\n"
     ]
    },
    {
     "name": "stderr",
     "output_type": "stream",
     "text": [
      "\r",
      "[ 52 %] Time elapsed: 00:03:02 | ETA: 00:02:48"
     ]
    },
    {
     "name": "stdout",
     "output_type": "stream",
     "text": [
      "23513 frames were loaded.\n"
     ]
    },
    {
     "name": "stderr",
     "output_type": "stream",
     "text": [
      "\r",
      "[ 56 %] Time elapsed: 00:03:14 | ETA: 00:02:33"
     ]
    },
    {
     "name": "stdout",
     "output_type": "stream",
     "text": [
      "23442 frames were loaded.\n"
     ]
    },
    {
     "name": "stderr",
     "output_type": "stream",
     "text": [
      "\r",
      "[ 60 %] Time elapsed: 00:03:27 | ETA: 00:02:18"
     ]
    },
    {
     "name": "stdout",
     "output_type": "stream",
     "text": [
      "23428 frames were loaded.\n"
     ]
    },
    {
     "name": "stderr",
     "output_type": "stream",
     "text": [
      "\r",
      "[ 64 %] Time elapsed: 00:03:40 | ETA: 00:02:04"
     ]
    },
    {
     "name": "stdout",
     "output_type": "stream",
     "text": [
      "23472 frames were loaded.\n"
     ]
    },
    {
     "name": "stderr",
     "output_type": "stream",
     "text": [
      "\r",
      "[ 68 %] Time elapsed: 00:03:53 | ETA: 00:01:49"
     ]
    },
    {
     "name": "stdout",
     "output_type": "stream",
     "text": [
      "23502 frames were loaded.\n"
     ]
    },
    {
     "name": "stderr",
     "output_type": "stream",
     "text": [
      "\r",
      "[ 72 %] Time elapsed: 00:04:06 | ETA: 00:01:36"
     ]
    },
    {
     "name": "stdout",
     "output_type": "stream",
     "text": [
      "23495 frames were loaded.\n"
     ]
    },
    {
     "name": "stderr",
     "output_type": "stream",
     "text": [
      "\r",
      "[ 76 %] Time elapsed: 00:04:25 | ETA: 00:01:23"
     ]
    },
    {
     "name": "stdout",
     "output_type": "stream",
     "text": [
      "23513 frames were loaded.\n"
     ]
    },
    {
     "name": "stderr",
     "output_type": "stream",
     "text": [
      "\r",
      "[ 80 %] Time elapsed: 00:04:38 | ETA: 00:01:09"
     ]
    },
    {
     "name": "stdout",
     "output_type": "stream",
     "text": [
      "23435 frames were loaded.\n"
     ]
    },
    {
     "name": "stderr",
     "output_type": "stream",
     "text": [
      "\r",
      "[ 84 %] Time elapsed: 00:04:52 | ETA: 00:00:55"
     ]
    },
    {
     "name": "stdout",
     "output_type": "stream",
     "text": [
      "23502 frames were loaded.\n"
     ]
    },
    {
     "name": "stderr",
     "output_type": "stream",
     "text": [
      "\r",
      "[ 88 %] Time elapsed: 00:05:05 | ETA: 00:00:41"
     ]
    },
    {
     "name": "stdout",
     "output_type": "stream",
     "text": [
      "23486 frames were loaded.\n"
     ]
    },
    {
     "name": "stderr",
     "output_type": "stream",
     "text": [
      "\r",
      "[ 92 %] Time elapsed: 00:05:18 | ETA: 00:00:27"
     ]
    },
    {
     "name": "stdout",
     "output_type": "stream",
     "text": [
      "23509 frames were loaded.\n"
     ]
    },
    {
     "name": "stderr",
     "output_type": "stream",
     "text": [
      "\r",
      "[ 96 %] Time elapsed: 00:05:31 | ETA: 00:00:13"
     ]
    },
    {
     "name": "stdout",
     "output_type": "stream",
     "text": [
      "23519 frames were loaded.\n"
     ]
    },
    {
     "name": "stderr",
     "output_type": "stream",
     "text": [
      "[100 %] Time elapsed: 00:05:44 | ETA: 00:00:00\n",
      "Total time elapsed: 00:05:44\n"
     ]
    }
   ],
   "source": [
    "movies = sorted(glob(r'J:\\Daniil Markov\\Rita_Daniil_OMR\\data\\{}\\{}_be\\*eyes.avi'.format(exp, exp)))\n",
    "\n",
    "total_left = []\n",
    "total_right = []\n",
    "total_left_interp = []\n",
    "total_right_interp = []\n",
    "\n",
    "\n",
    "for fn in prog_percent(movies):\n",
    "    mov = loadMovie(fn)\n",
    "    \n",
    "    left, right = [], []\n",
    "\n",
    "    for i in range(0,mov.shape[0]):\n",
    "        t = track_170712_f4(mov[i])\n",
    "        e = fitEllipse(t.copy()*255)\n",
    "\n",
    "        left.append(e[0][2])\n",
    "        right.append(e[1][2])\n",
    "\n",
    "    left = np.array(left)\n",
    "    right = np.array(right)\n",
    "\n",
    "    left[left>90] -= 180\n",
    "    right[right>90] -= 180\n",
    "\n",
    "    data = np.load(fn.replace('_eyes.avi','_data.npy'))\n",
    "    old_time = data[:,0] - data[0,0]\n",
    "    \n",
    "    left_interp = np.interp(new_time, old_time, left)\n",
    "    right_interp = np.interp(new_time, old_time, right)\n",
    "    \n",
    "    total_left_interp.append(left_interp)\n",
    "    total_right_interp.append(right_interp)\n",
    "    \n",
    "    total_left.append(left)\n",
    "    total_right.append(right)"
   ]
  },
  {
   "cell_type": "code",
   "execution_count": 100,
   "metadata": {},
   "outputs": [],
   "source": [
    "plane = 0\n",
    "\n",
    "for i, j in zip(total_left, total_right):\n",
    "    df = pd.DataFrame([i, j]).T\n",
    "    df.columns = 'left_eye', 'right_eye'\n",
    "    df.index.name = 'frame'\n",
    "    \n",
    "    name_base = movies[plane].split('\\\\')[-1]\n",
    "    \n",
    "    df.to_csv(DESTINATION_EXP+'{}'.format(name_base.replace('.avi','_not_interpolated.csv')))\n",
    "    plane += 1"
   ]
  },
  {
   "cell_type": "code",
   "execution_count": 101,
   "metadata": {},
   "outputs": [
    {
     "data": {
      "image/png": "[encoded data removed]",
      "text/plain": [
       "<matplotlib.figure.Figure at 0xc97d588>"
      ]
     },
     "metadata": {},
     "output_type": "display_data"
    }
   ],
   "source": [
    "plt.figure(figsize=(12,5))\n",
    "plt.subplot(211)\n",
    "plt.imshow(total_left_interp,aspect='auto')\n",
    "plt.xticks(np.arange(13)*2000, np.arange(13)*10)\n",
    "plt.colorbar()\n",
    "plt.ylabel('Plane#')\n",
    "plt.subplot(212)\n",
    "plt.imshow(total_right_interp,aspect='auto')\n",
    "plt.xticks(np.arange(13)*2000, np.arange(13)*10)\n",
    "plt.colorbar()\n",
    "plt.ylabel('Plane#')\n",
    "plt.xlabel('Time in plane [s]')\n",
    "plt.suptitle('{} (interp)'.format(exp))\n",
    "\n",
    "plt.savefig(DESTINATION_EXP+'{}_eyes_overview.png'.format(exp),dpi=300)"
   ]
  },
  {
   "cell_type": "code",
   "execution_count": null,
   "metadata": {},
   "outputs": [],
   "source": []
  }
 ],
 "metadata": {
  "kernelspec": {
   "display_name": "Python 3",
   "language": "python",
   "name": "python3"
  },
  "language_info": {
   "codemirror_mode": {
    "name": "ipython",
    "version": 3
   },
   "file_extension": ".py",
   "mimetype": "text/x-python",
   "name": "python",
   "nbconvert_exporter": "python",
   "pygments_lexer": "ipython3",
   "version": "3.5.1"
  }
 },
 "nbformat": 4,
 "nbformat_minor": 2
}
